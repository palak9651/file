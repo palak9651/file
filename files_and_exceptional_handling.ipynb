{
  "nbformat": 4,
  "nbformat_minor": 0,
  "metadata": {
    "colab": {
      "provenance": []
    },
    "kernelspec": {
      "name": "python3",
      "display_name": "Python 3"
    },
    "language_info": {
      "name": "python"
    }
  },
  "cells": [
    {
      "cell_type": "code",
      "execution_count": null,
      "metadata": {
        "id": "ujlg33PxOi68"
      },
      "outputs": [],
      "source": []
    },
    {
      "cell_type": "markdown",
      "source": [
        "# Files, Exceptional handling and Memory management"
      ],
      "metadata": {
        "id": "ix2JJDsdOsvc"
      }
    },
    {
      "cell_type": "markdown",
      "source": [
        "1. What is the difference between interpreted and compiled languages?\n",
        "   Interpreted language execute code line by line, while compiled language translate the entire code into machine code before running it.\n",
        "\n",
        "2. F What is exception handling in Python?\n",
        "   Exception handling in Python is a mechanism to manage errors that occur during the execution of a program\n",
        "\n",
        "3. What is the purpose of the finally block in exception handling?\n",
        "   The purpose of the finally block in exception handling is to ensure that a particular block of code is always executed.\n",
        "\n",
        "4. What is logging in Python?\n",
        "   Logging in Python is a built-in module.It allows developers to track events, debug issue.\n",
        "\n",
        "5. What is the significance of the __del__ method in Python?\n",
        "  The __del__ method in Python is referred to as a destructor. It is automatically called when an object is about to be destroyed or garbage collected.\n",
        "\n",
        "6. What is the difference between import and from ... import in Python?\n",
        "  in python import module_name statement imports the entire module while from module_name import item_name statement imports a specific item function, class, variable from a module.\n",
        "\n",
        "7. How can you handle multiple exceptions in Python?\n",
        "  in python multiple exception handle through try method with the code within the ecept block will be executed.\n",
        "\n",
        "8. What is the purpose of the with statement when handling files in Python?\n",
        "  The with statement in Python simplifies file handling by ensuring that files are automatically closed after their use, even if errors occur within the code block.\n",
        "\n",
        "9. What is the difference between multithreading and multiprocessing?\n",
        "  Multithreading involves creating multiple threads within a single process, while multiprocessing involves creating multiple independent processes.\n",
        "\n",
        "10. What are the advantages of using logging in a program?\n",
        "   The main advantages of using logging in a program it enables debuging.\n",
        "\n",
        "11. What is memory management in Python?\n",
        "  Memory management in Python is the process of allocating and deallocating memory for objects.\n",
        "\n",
        "12. What are the basic steps involved in exception handling in Python?\n",
        "  \n",
        "13. Why is memory management important in Python?\n",
        "  In order to avoid problems that can arise when run out of memory, such as memory leaks.\n",
        "\n",
        "14. What is the role of try and except in exception handling?\n",
        "  The role of try and except in exception handling is to manage errors together.\n",
        "\n",
        "15. How does Python's garbage collection system work?\n",
        "   Python's garbage collection system work by combining  reference counting and generational garbage collection.\n",
        "   \n",
        "16. What is the purpose of the else block in exception handling?\n",
        "   The else block in exception handling is used in conjunction with try and except, executes code only if no exceptions are raised within the try block.\n",
        "  \n",
        "17. What are the common logging levels in Python?\n",
        "   The commn logging level in python are:\n",
        "   DEBUG\n",
        "   INFO\n",
        "   WARNING\n",
        "   ERROR\n",
        "   CRITICAL\n",
        "\n",
        "18. What is the difference between os.fork() and multiprocessing in Python?\n",
        "  os.fork() is a low-level system call while multiprocessing is higher-level abstraction. multiprocessing is more user friendly.\n",
        "\n",
        "19. What is the importance of closing a file in Python?\n",
        "   It is important to close a file in python, it ensures the release of system resources, data integrity, and prevents data corruption.\n",
        "\n",
        "20. What is the difference between file.read() and file.readline() in Python?\n",
        "  file.read() reads the entire file as a string while file,readline() reads a single line from the file.\n",
        "\n",
        "21. What is the logging module in Python used for?\n",
        "   The logging module in Python used for tracking events and debugging issues.\n",
        "\n",
        "22. What is the os module in Python used for in file handling?\n",
        "  The os module in Python used for interacting with the operating system.\n",
        "\n",
        "23. What are the challenges associated with memory management in Python?\n",
        "  Python memory management is the process of allocating and dealing with memory so that the programs can run efficiently.\n",
        "\n",
        "24. How do you raise an exception manually in Python?\n",
        "   In Python, exceptions can be raised manually using the raise keyword.\n",
        "\n",
        "25. Why is it important to use multithreading in certain applications?\n",
        "  the important use of multithreading  in certain applications needing to perform multiple tasks simultaneously.\n",
        "  \n"
      ],
      "metadata": {
        "id": "Gyxe-7Q0O_eq"
      }
    },
    {
      "cell_type": "markdown",
      "source": [
        "# Practicle"
      ],
      "metadata": {
        "id": "y2Sd5C2MgTQC"
      }
    },
    {
      "cell_type": "code",
      "source": [
        "# 1. How can you open a file for writing in Python and write a string to it?\n",
        "file = open(\"file.text\",\"w\")\n"
      ],
      "metadata": {
        "id": "jVFJIv8FgXTF"
      },
      "execution_count": null,
      "outputs": []
    },
    {
      "cell_type": "code",
      "source": [
        "file.write(\"Hello World\")"
      ],
      "metadata": {
        "colab": {
          "base_uri": "https://localhost:8080/"
        },
        "id": "1aLkN_IbqkEG",
        "outputId": "4061b987-db4c-48b0-defe-56d9cf5a9c17"
      },
      "execution_count": null,
      "outputs": [
        {
          "output_type": "execute_result",
          "data": {
            "text/plain": [
              "11"
            ]
          },
          "metadata": {},
          "execution_count": 3
        }
      ]
    },
    {
      "cell_type": "code",
      "source": [
        "file.close()"
      ],
      "metadata": {
        "id": "Eab67HMMquiv"
      },
      "execution_count": null,
      "outputs": []
    },
    {
      "cell_type": "code",
      "source": [
        "# 2. Write a Python program to read the contents of a file and print each line?\n",
        "file = open(\"file.text\",\"r\")"
      ],
      "metadata": {
        "id": "V8N4sSA5q1zG"
      },
      "execution_count": null,
      "outputs": []
    },
    {
      "cell_type": "code",
      "source": [
        "for i in file:\n",
        "  print(i)"
      ],
      "metadata": {
        "colab": {
          "base_uri": "https://localhost:8080/"
        },
        "id": "bHbwFcyorIBH",
        "outputId": "83bb8d66-69ed-4548-8bc7-d10a8408ebb2"
      },
      "execution_count": null,
      "outputs": [
        {
          "output_type": "stream",
          "name": "stdout",
          "text": [
            "Hello World\n"
          ]
        }
      ]
    },
    {
      "cell_type": "code",
      "source": [
        "# 3. How would you handle a case where the file doesn't exist while trying to open it for reading?\n",
        "try:\n",
        "    with open(\"non_existent_file.txt\", \"r\") as file:\n",
        "        content = file.read()\n",
        "        print(content)\n",
        "except FileNotFoundError:\n",
        "    print(\"Error: The file does not exist.\")"
      ],
      "metadata": {
        "colab": {
          "base_uri": "https://localhost:8080/"
        },
        "id": "ZzLfkYS9rb2d",
        "outputId": "7907b4ab-c8a9-4682-a861-b990ddf2a113"
      },
      "execution_count": null,
      "outputs": [
        {
          "output_type": "stream",
          "name": "stdout",
          "text": [
            "Error: The file does not exist.\n"
          ]
        }
      ]
    },
    {
      "cell_type": "code",
      "source": [
        "# 4. Write a Python script that reads from one file and writes its content to another file?"
      ],
      "metadata": {
        "id": "-YwS99AasF0A"
      },
      "execution_count": null,
      "outputs": []
    },
    {
      "cell_type": "code",
      "source": [
        "# 5. How would you catch and handle division by zero error in Python?\n",
        "try:\n",
        "    result = 10 / 0\n",
        "except ZeroDivisionError:\n",
        "    print(\"You can't divide by zero.\")"
      ],
      "metadata": {
        "colab": {
          "base_uri": "https://localhost:8080/"
        },
        "id": "G9PGP77Zsc5Q",
        "outputId": "fa61a38e-7cf2-46c3-92c3-5406c6f3d4b0"
      },
      "execution_count": null,
      "outputs": [
        {
          "output_type": "stream",
          "name": "stdout",
          "text": [
            "You can't divide by zero.\n"
          ]
        }
      ]
    },
    {
      "cell_type": "code",
      "source": [
        "# 6. Write a Python program that logs an error message to a log file when a division by zero exception occurs?\n"
      ],
      "metadata": {
        "id": "9NYn17vwsiQ-"
      },
      "execution_count": null,
      "outputs": []
    },
    {
      "cell_type": "code",
      "source": [
        "# 7. How do you log information at different levels (INFO, ERROR, WARNING) in Python using the logging module?\n",
        "import logging\n",
        "logging.basicConfig(level=logging.INFO)\n",
        "\n",
        "logging.debug(\"This is a debug message.\")\n",
        "logging.info(\"This is an info message.\")\n",
        "logging.warning(\"This is a warning message.\")\n",
        "logging.error(\"This is an error message.\")\n",
        "logging.critical(\"This is a critical message.\")"
      ],
      "metadata": {
        "colab": {
          "base_uri": "https://localhost:8080/"
        },
        "id": "-Fk_v5vKtX_y",
        "outputId": "3ae5805a-becb-48d2-9fd5-a9c3dcc41ae5"
      },
      "execution_count": null,
      "outputs": [
        {
          "output_type": "stream",
          "name": "stderr",
          "text": [
            "WARNING:root:This is a warning message.\n",
            "ERROR:root:This is an error message.\n",
            "CRITICAL:root:This is a critical message.\n"
          ]
        }
      ]
    },
    {
      "cell_type": "code",
      "source": [
        "# 8. Write a program to handle a file opening error using exception handling?\n",
        "try:\n",
        "\n",
        "    with open(\"p.txt\", \"r\") as file:\n",
        "        content = file.read()\n",
        "        print(\"File content:\", content)\n",
        "except FileNotFoundError:\n",
        "    print(\"Error: The file does not exist.\")"
      ],
      "metadata": {
        "colab": {
          "base_uri": "https://localhost:8080/"
        },
        "id": "WdVdwG0ouJ40",
        "outputId": "93e0bb9e-5731-4de5-c237-662d684ab706"
      },
      "execution_count": null,
      "outputs": [
        {
          "output_type": "stream",
          "name": "stdout",
          "text": [
            "Error: The file does not exist.\n"
          ]
        }
      ]
    },
    {
      "cell_type": "code",
      "source": [
        "# 9. How can you read a file line by line and store its content in a list in Python?\n",
        "with open('file.text', 'r') as file:\n",
        "    lines = file.readlines()\n",
        "\n",
        "lines = [line.strip() for line in lines]\n",
        "print(lines)\n",
        "file.close()"
      ],
      "metadata": {
        "colab": {
          "base_uri": "https://localhost:8080/"
        },
        "id": "7981c38tus-W",
        "outputId": "08d75f34-776d-45aa-e113-1ef3c4d9758f"
      },
      "execution_count": null,
      "outputs": [
        {
          "output_type": "stream",
          "name": "stdout",
          "text": [
            "['Hello World']\n"
          ]
        }
      ]
    },
    {
      "cell_type": "code",
      "source": [
        "# 10. How can you append data to an existing file in Python?\n",
        "file = open(\"file.text\", \"a\")"
      ],
      "metadata": {
        "id": "ebffTbnjvNY0"
      },
      "execution_count": null,
      "outputs": []
    },
    {
      "cell_type": "code",
      "source": [
        "file.write(\"My name is palak\\n\")\n",
        "file.write(\"I am a DS student\")"
      ],
      "metadata": {
        "colab": {
          "base_uri": "https://localhost:8080/"
        },
        "id": "4wT_cmANvqHq",
        "outputId": "8f88b844-6d13-4d1f-8c87-e06a8e4f74a1"
      },
      "execution_count": null,
      "outputs": [
        {
          "output_type": "execute_result",
          "data": {
            "text/plain": [
              "17"
            ]
          },
          "metadata": {},
          "execution_count": 25
        }
      ]
    },
    {
      "cell_type": "code",
      "source": [
        "# 11. Write a Python program that uses a try-except block to handle an error when attempting to access a\n",
        "# dictionary key that doesn't exist?\n",
        "\n",
        "student = {\n",
        "    \"name\": \"palak\",\n",
        "    \"course\": \"Python\",\n",
        "    \"age\": 30\n",
        "}\n",
        "\n",
        "key_to_access = \"address\"\n",
        "\n",
        "try:\n",
        "    value = student[key_to_access]\n",
        "    print(f\"The value for '{key_to_access}' is: {value}\")\n",
        "except KeyError:\n",
        "    print(f\"Error: The key '{key_to_access}' does not exist in the dictionary.\")"
      ],
      "metadata": {
        "colab": {
          "base_uri": "https://localhost:8080/"
        },
        "id": "g0S_YBy5wEAt",
        "outputId": "91c1eb74-907c-4e4d-9d30-d59c3051a45e"
      },
      "execution_count": null,
      "outputs": [
        {
          "output_type": "stream",
          "name": "stdout",
          "text": [
            "Error: The key 'address' does not exist in the dictionary.\n"
          ]
        }
      ]
    },
    {
      "cell_type": "code",
      "source": [
        "# 12. Write a program that demonstrates using multiple except blocks to handle different types of exceptions?"
      ],
      "metadata": {
        "id": "TfY0OQr0wTYm"
      },
      "execution_count": null,
      "outputs": []
    },
    {
      "cell_type": "code",
      "source": [
        "# 13. How would you check if a file exists before attempting to read it in Python?\n",
        "import os\n",
        "\n",
        "file_path = \"file.text\"\n",
        "\n",
        "if os.path.exists(file_path):\n",
        "    print(f\"The file '{file_path}' exists.\")\n",
        "else:\n",
        "    print(f\"The file '{file_path}' does not exist.\")"
      ],
      "metadata": {
        "colab": {
          "base_uri": "https://localhost:8080/"
        },
        "id": "5ADYFMkjybRY",
        "outputId": "f3ffba47-4d70-44b9-b658-953d934427ad"
      },
      "execution_count": null,
      "outputs": [
        {
          "output_type": "stream",
          "name": "stdout",
          "text": [
            "The file 'file.text' exists.\n"
          ]
        }
      ]
    },
    {
      "cell_type": "code",
      "source": [
        "# 14.  Write a program that uses the logging module to log both informational and error messages?"
      ],
      "metadata": {
        "id": "-sEB3xlxyuP1"
      },
      "execution_count": null,
      "outputs": []
    },
    {
      "cell_type": "code",
      "source": [
        "# 15 Write a Python program that prints the content of a file and handles the case when the file is empty?\n",
        "import os\n",
        "\n",
        "def read_file(file_path):\n",
        "\n",
        "    try:\n",
        "\n",
        "        if os.path.exists(file_path):\n",
        "            file_size = os.path.getsize(file_path)\n",
        "            if file_size == 0:\n",
        "                print(\"The file is empty.\")\n",
        "            else:\n",
        "                with open(file_path, 'r') as file:\n",
        "                    content = file.read()\n",
        "                    print(\"File content:\")\n",
        "                    print(content)\n",
        "        else:\n",
        "            print(\"The file does not exist.\")\n",
        "    except Exception as e:\n",
        "        print(f\"An error occurred: {e}\")\n",
        "\n",
        "file_path = 'example.txt'\n",
        "read_file(file_path)"
      ],
      "metadata": {
        "colab": {
          "base_uri": "https://localhost:8080/"
        },
        "id": "ajHZOoEcC7dL",
        "outputId": "dca7ebbf-b2cc-4d3b-8979-38cf1cd48ccc"
      },
      "execution_count": null,
      "outputs": [
        {
          "output_type": "stream",
          "name": "stdout",
          "text": [
            "The file does not exist.\n"
          ]
        }
      ]
    },
    {
      "cell_type": "code",
      "source": [
        "# 16. Demonstrate how to use memory profiling to check the memory usage of a small program?"
      ],
      "metadata": {
        "id": "CpSM5jLJEDzA"
      },
      "execution_count": null,
      "outputs": []
    },
    {
      "cell_type": "code",
      "source": [
        "# 17. Write a Python program to create and write a list of numbers to a file, one number per line?\n",
        "numbers = [1, 2, 3, 4, 5]\n",
        "\n",
        "with open('numbers.txt', 'w') as file:\n",
        "\n",
        "    for number in numbers:\n",
        "        file.write(f\"{number}\\n\")\n",
        "\n",
        "print(\"Numbers have been written to 'numbers.txt'.\")\n",
        "file.close()"
      ],
      "metadata": {
        "colab": {
          "base_uri": "https://localhost:8080/"
        },
        "id": "tA81LhWPE1II",
        "outputId": "f33de726-8c20-47f6-e19a-73c5814d4c04"
      },
      "execution_count": null,
      "outputs": [
        {
          "output_type": "stream",
          "name": "stdout",
          "text": [
            "Numbers have been written to 'numbers.txt'.\n"
          ]
        }
      ]
    },
    {
      "cell_type": "code",
      "source": [
        "file.closed"
      ],
      "metadata": {
        "colab": {
          "base_uri": "https://localhost:8080/"
        },
        "id": "5Fl1PwKqE2Id",
        "outputId": "5950d638-04f5-4ee4-9a82-12d9f5595478"
      },
      "execution_count": null,
      "outputs": [
        {
          "output_type": "execute_result",
          "data": {
            "text/plain": [
              "True"
            ]
          },
          "metadata": {},
          "execution_count": 14
        }
      ]
    },
    {
      "cell_type": "code",
      "source": [
        "# 18. How would you implement a basic logging setup that logs to a file with rotation after 1MB?"
      ],
      "metadata": {
        "id": "S__fOTTCFuYD"
      },
      "execution_count": null,
      "outputs": []
    },
    {
      "cell_type": "code",
      "source": [
        "# 19.Write a program that handles both IndexError and KeyError using a try-except block?\n",
        "def access_data():\n",
        "\n",
        "    my_list = [1, 2, 3]\n",
        "    my_dict = {\"a\": \"palak\", \"b\": \"nishit\", \"c\": \"patel\"}\n",
        "\n",
        "    try:\n",
        "\n",
        "        print(my_list[3])\n",
        "    except IndexError:\n",
        "        print(\"IndexError: List index out of range.\")\n",
        "\n",
        "    try:\n",
        "\n",
        "        print(my_dict[\"e\"])\n",
        "    except KeyError:\n",
        "        print(\"KeyError: Key not found in dictionary.\")\n",
        "\n",
        "if __name__ == \"__main__\":\n",
        "    access_data()"
      ],
      "metadata": {
        "colab": {
          "base_uri": "https://localhost:8080/"
        },
        "id": "aTEtiNTJG0oq",
        "outputId": "538742c6-2916-46fa-c4ee-7314b80474d6"
      },
      "execution_count": null,
      "outputs": [
        {
          "output_type": "stream",
          "name": "stdout",
          "text": [
            "IndexError: List index out of range.\n",
            "KeyError: Key not found in dictionary.\n"
          ]
        }
      ]
    },
    {
      "cell_type": "code",
      "source": [
        "# 20. How would you open a file and read its contents using a context manager in Python?\n",
        "with open(\"numbers.txt\", \"r\") as file:\n",
        "    file = file.read()\n",
        "    print(file)\n"
      ],
      "metadata": {
        "colab": {
          "base_uri": "https://localhost:8080/"
        },
        "id": "2m1GFEtIHpOv",
        "outputId": "d2e4e631-141a-41f8-f662-e1c5f19af1c8"
      },
      "execution_count": null,
      "outputs": [
        {
          "output_type": "stream",
          "name": "stdout",
          "text": [
            "1\n",
            "2\n",
            "3\n",
            "4\n",
            "5\n",
            "\n"
          ]
        }
      ]
    },
    {
      "cell_type": "code",
      "source": [
        "# 21. Write a Python program that reads a file and prints the number of occurrences of a specific word?"
      ],
      "metadata": {
        "id": "U1EGpnlsISN7"
      },
      "execution_count": null,
      "outputs": []
    },
    {
      "cell_type": "code",
      "source": [
        "# 22.How can you check if a file is empty before attempting to read its contents?\n",
        "import os\n",
        "file_path = \"numbers.txt\"\n",
        "\n",
        "if os.path.getsize(file_path) == 0:\n",
        "    print(\"The file is empty.\")\n",
        "else:\n",
        "    print(\"The file is not empty.\")"
      ],
      "metadata": {
        "colab": {
          "base_uri": "https://localhost:8080/"
        },
        "id": "4EVQz6kYJZwT",
        "outputId": "a5996174-ac07-40b6-aca8-c9cff5238df4"
      },
      "execution_count": null,
      "outputs": [
        {
          "output_type": "stream",
          "name": "stdout",
          "text": [
            "The file is not empty.\n"
          ]
        }
      ]
    },
    {
      "cell_type": "code",
      "source": [
        "# 23. Write a Python program that writes to a log file when an error occurs during file handling."
      ],
      "metadata": {
        "id": "jQmOw8xPKZeg"
      },
      "execution_count": null,
      "outputs": []
    }
  ]
}